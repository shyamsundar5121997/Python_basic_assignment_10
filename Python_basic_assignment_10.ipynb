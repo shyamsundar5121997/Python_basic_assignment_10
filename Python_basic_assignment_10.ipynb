{
 "cells": [
  {
   "cell_type": "markdown",
   "id": "14d297a9",
   "metadata": {},
   "source": [
    "1. How do you distinguish between shutil.copy() and shutil.copytree()?"
   ]
  },
  {
   "cell_type": "code",
   "execution_count": null,
   "id": "d6d02b0b",
   "metadata": {},
   "outputs": [],
   "source": [
    "=>shutil.copy() method is used to copy the contents of a file from one file to another file/folder.\n",
    "shutil.copytree() function is used to copy the entire contents of a folder to other folder."
   ]
  },
  {
   "cell_type": "markdown",
   "id": "89b98b2d",
   "metadata": {},
   "source": [
    "2. What function is used to rename files??"
   ]
  },
  {
   "cell_type": "code",
   "execution_count": null,
   "id": "b4b30df9",
   "metadata": {},
   "outputs": [],
   "source": [
    "=>os.rename() function is used to rename files."
   ]
  },
  {
   "cell_type": "code",
   "execution_count": null,
   "id": "0378caf7",
   "metadata": {},
   "outputs": [],
   "source": [
    "3. What is the difference between the delete functions in the send2trash and shutil modules?"
   ]
  },
  {
   "cell_type": "markdown",
   "id": "9a719c96",
   "metadata": {},
   "source": [
    "4.ZipFile objects have a close() method just like File objects’ close() method. What ZipFile\n",
    "method is equivalent to File objects’ open() method?"
   ]
  },
  {
   "cell_type": "code",
   "execution_count": null,
   "id": "0de229b1",
   "metadata": {},
   "outputs": [],
   "source": [
    "=>zipfile.ZipFile('filename', mode = 'r')"
   ]
  },
  {
   "cell_type": "code",
   "execution_count": null,
   "id": "9394e814",
   "metadata": {},
   "outputs": [],
   "source": [
    "5. Create a programme that searches a folder tree for files with a certain file extension (such as .pdf or .jpg). \n",
    "Copy these files from whatever location they are in to a new folder."
   ]
  }
 ],
 "metadata": {
  "kernelspec": {
   "display_name": "Python 3 (ipykernel)",
   "language": "python",
   "name": "python3"
  },
  "language_info": {
   "codemirror_mode": {
    "name": "ipython",
    "version": 3
   },
   "file_extension": ".py",
   "mimetype": "text/x-python",
   "name": "python",
   "nbconvert_exporter": "python",
   "pygments_lexer": "ipython3",
   "version": "3.10.9"
  }
 },
 "nbformat": 4,
 "nbformat_minor": 5
}
